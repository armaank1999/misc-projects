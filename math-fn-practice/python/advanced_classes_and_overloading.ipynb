{
 "cells": [
  {
   "cell_type": "code",
   "execution_count": 1,
   "metadata": {},
   "outputs": [],
   "source": [
    "import math\n",
    "\n",
    "class Rational:\n",
    "    def __init__(self, num, den=1):\n",
    "        if not isinstance(num, int) or not isinstance(den, int):\n",
    "            raise ArgumentError(\"Numerator and denominator must be integers\")\n",
    "        self.num = num\n",
    "        self.den = den\n",
    "        self.simplify()\n",
    "\n",
    "    def __str__(self):\n",
    "        return \"{0}/{1}\".format(self.num,self.den)\n",
    "    \n",
    "    def __repr__(self):\n",
    "        return \"{0}/{1}\".format(self.num,self.den)\n",
    "\n",
    "    def simplify(self):\n",
    "        GCD = math.gcd(self.num,self.den)\n",
    "        self.num = self.num // GCD\n",
    "        self.den = self.den // GCD\n",
    "        if self.den < 0:\n",
    "            self.den = -self.den\n",
    "            self.num = -self.num\n",
    "\n",
    "    def __add__(self, other):\n",
    "        if isinstance(other, int):\n",
    "            return Rational(self.num+other*self.den,self.den)\n",
    "        if not isinstance(other, Rational):\n",
    "            raise ArgumentError(\"Other must be an integer or a rational\")\n",
    "        return Rational((self.num*other.den)+(other.num*self.den), self.den*other.den)\n",
    "    \n",
    "    def __iadd__(self, other):\n",
    "        if isinstance(other, int):\n",
    "            self.num += other*self.den\n",
    "            return self\n",
    "        if not isinstance(other, Rational):\n",
    "            raise ArgumentError(\"Other must be an integer or a rational\")\n",
    "        self.num = (self.num*other.den)+(other.num*self.den)\n",
    "        self.den *= other.den\n",
    "        self.simplify()\n",
    "        return self\n",
    "\n",
    "    def __sub__(self, other):\n",
    "        if isinstance(other, int):\n",
    "            return Rational(self.num-other*self.den,self.den)\n",
    "        if not isinstance(other, Rational):\n",
    "            raise ArgumentError(\"Other must be an integer or a rational\")\n",
    "        return Rational((self.num*other.den)-(other.num*self.den), self.den*other.den)\n",
    "    \n",
    "    def __isub__(self, other):\n",
    "        if isinstance(other, int):\n",
    "            self.num -= other*self.den\n",
    "            return self\n",
    "        if not isinstance(other, Rational):\n",
    "            raise ArgumentError(\"Other must be an integer or a rational\")\n",
    "        self.num = (self.num*other.den)-(other.num*self.den)\n",
    "        self.den *= other.den\n",
    "        self.simplify()\n",
    "        return self\n",
    "\n",
    "    def __mul__(self, other):\n",
    "        if isinstance(other, int):\n",
    "            return Rational(self.num*other,self.den)\n",
    "        if not isinstance(other, Rational):\n",
    "            raise ArgumentError(\"Other must be an integer or a rational\")\n",
    "        return Rational(self.num*other.num, self.den*other.den)\n",
    "    \n",
    "    def __imul__(self, other):\n",
    "        if isinstance(other, int):\n",
    "            self.num *= other\n",
    "            self.simplify()\n",
    "            return self\n",
    "        if not isinstance(other, Rational):\n",
    "            raise ArgumentError(\"Other must be an integer or a rational\")\n",
    "        self.num *= other.num\n",
    "        self.den *= other.den\n",
    "        self.simplify()\n",
    "        return self\n",
    "\n",
    "    def __truediv__(self, other):\n",
    "        if isinstance(other, int):\n",
    "            return Rational(self.num,self.den*other)\n",
    "        if not isinstance(other, Rational):\n",
    "            raise ArgumentError(\"Other must be an integer or a rational\")\n",
    "        return Rational(self.num*other.den, self.den*other.num)\n",
    "    \n",
    "    def __itruediv__(self, other):\n",
    "        if isinstance(other, int):\n",
    "            self.den *= other\n",
    "            self.simplify()\n",
    "            return self\n",
    "        if not isinstance(other, Rational):\n",
    "            raise ArgumentError(\"Other must be an integer or a rational\")\n",
    "        self.num *= other.den\n",
    "        self.den *= other.num\n",
    "        self.simplify()\n",
    "        return self\n",
    "\n",
    "    def __lt__(self, other):\n",
    "        if not isinstance(other, Rational):\n",
    "            return self.num < (other*self.den)\n",
    "        return (self.num*other.den) < (other.num*self.den)\n",
    "\n",
    "    def __le__(self, other):\n",
    "        if not isinstance(other, Rational):\n",
    "            return self.num <= (other*self.den)\n",
    "        return (self.num*other.den) <= (other.num*self.den)\n",
    "\n",
    "    def __eq__(self, other):\n",
    "        if not isinstance(other, Rational):\n",
    "            return self.num == other*self.den\n",
    "        return (self.num == other.num) and (other.den == self.den)\n",
    "\n",
    "    def __ne__(self, other):\n",
    "        if not isinstance(other, Rational):\n",
    "            return self.num != other*self.den\n",
    "        return (not (self.num == other.num)) or (not (other.den == self.den))\n",
    "\n",
    "    def __gt__(self, other):\n",
    "        if not isinstance(other, Rational):\n",
    "            return self.num > (other*self.den)\n",
    "        return (self.num*other.den) > (other.num*self.den)\n",
    "\n",
    "    def __ge__(self, other):\n",
    "        if not isinstance(other, Rational):\n",
    "            return self.num >= (other*self.den)\n",
    "        return (self.num*other.den) >= (other.num*self.den)\n",
    "    \n",
    "    # Returns float, not Rational\n",
    "    def __pow__(self, other):\n",
    "        if not isinstance(other, Rational):\n",
    "            return (self.num/self.den)**other\n",
    "        return (self.num/self.den)**(other.num/other.den)"
   ]
  },
  {
   "cell_type": "code",
   "execution_count": 2,
   "metadata": {},
   "outputs": [
    {
     "name": "stdout",
     "output_type": "stream",
     "text": [
      "False\n",
      "True\n",
      "True\n",
      "7/12\n",
      "7/3\n"
     ]
    }
   ],
   "source": [
    "x = Rational(1, 3)\n",
    "y = Rational(1, 4)\n",
    "print(x < y)\n",
    "print(x < .3714)\n",
    "print(x >= y)\n",
    "x+=y\n",
    "print(x)\n",
    "x/=y\n",
    "print(x)"
   ]
  },
  {
   "cell_type": "code",
   "execution_count": 3,
   "metadata": {},
   "outputs": [
    {
     "name": "stdout",
     "output_type": "stream",
     "text": [
      "1/3\n",
      "1/8\n"
     ]
    }
   ],
   "source": [
    "x -= 1\n",
    "print(x-1)\n",
    "y*=2\n",
    "print(y/4)"
   ]
  },
  {
   "cell_type": "code",
   "execution_count": 11,
   "metadata": {},
   "outputs": [],
   "source": [
    "# Complex is built in and well implemented - j instead of i, but this is for practice anyway\n",
    "class Complex:\n",
    "    def __init__(self, real, imag):\n",
    "        self.real = real\n",
    "        self.imag = imag\n",
    "        \n",
    "    def __str__(self):            \n",
    "        return \"{0}+{1}i\".format(self.real,self.imag)\n",
    "    \n",
    "    def __repr__(self):            \n",
    "        return \"{0}+{1}i\".format(self.real,self.imag)\n",
    "    \n",
    "    def __add__(self, other):\n",
    "        if isinstance(other, Reitheta):\n",
    "            other = other.toComplex()\n",
    "        if not isinstance(other, Complex):\n",
    "            return Complex(other+self.real,self.imag)\n",
    "        return Complex(self.real+other.real, self.imag+other.imag)\n",
    "    \n",
    "    def __iadd__(self, other):\n",
    "        if isinstance(other, Reitheta):\n",
    "            other = other.toComplex()\n",
    "        if not isinstance(other, Complex):\n",
    "            self.real += other\n",
    "            return self\n",
    "        self.real += other.real\n",
    "        self.imag += other.imag\n",
    "        return self\n",
    "\n",
    "    def __sub__(self, other):\n",
    "        if isinstance(other, Reitheta):\n",
    "            other = other.toComplex()\n",
    "        if not isinstance(other, Complex):\n",
    "            return Complex(self.real-other, self.imag)\n",
    "        return Complex(self.real-other.real, self.imag-other.imag)\n",
    "    \n",
    "    def __isub__(self, other):\n",
    "        if isinstance(other, Reitheta):\n",
    "            other = other.toComplex()\n",
    "        if not isinstance(other, Complex):\n",
    "            self.real -= other\n",
    "            return self\n",
    "        self.real -= other.real\n",
    "        self.imag -= other.imag\n",
    "        return self\n",
    "\n",
    "    def __mul__(self, other):\n",
    "        if isinstance(other, Reitheta):\n",
    "            other = other.toComplex()\n",
    "        if not isinstance(other, Complex):\n",
    "            return Complex(self.real*other, self.imag*other)\n",
    "        return Complex(self.real*other.real-self.imag*other.imag, self.real*other.imag+self.imag*other.real)\n",
    "    \n",
    "    def __imul__(self, other):\n",
    "        if isinstance(other, Reitheta):\n",
    "            other = other.toComplex()\n",
    "        if not isinstance(other, Complex):\n",
    "            self.real *= other\n",
    "            self.imag *= other\n",
    "            return self\n",
    "        self.real = self.real*other.real - self.imag*other.imag\n",
    "        self.imag = self.real*other.imag + self.imag*other.real\n",
    "        return self\n",
    "\n",
    "    def __truediv__(self, other):\n",
    "        if isinstance(other, Reitheta):\n",
    "            other = other.toComplex()\n",
    "        if not isinstance(other, Complex):\n",
    "            return Complex(self.real/other, self.imag/other)\n",
    "        denom = other.real*other.real + other.imag*other.imag\n",
    "        return Complex((self.real*other.real+self.imag*other.imag)/denom, (self.imag*other.real-self.real*other.imag)/denom)\n",
    "    \n",
    "    def __itruediv__(self, other):\n",
    "        if isinstance(other, Reitheta):\n",
    "            other = other.toComplex()\n",
    "        if not isinstance(other, Complex):\n",
    "            self.real /= other\n",
    "            self.imag /= other\n",
    "            return self\n",
    "        denom = other.real*other.real + other.imag*other.imag\n",
    "        self.real = (self.real*other.real+self.imag*other.imag)/denom\n",
    "        self.imag = (self.imag*other.real-self.real*other.imag)/denom\n",
    "        return self\n",
    "    \n",
    "    # Complexes not comparable, so just = and !=\n",
    "    def __eq__(self, other):\n",
    "        if isinstance(other, Reitheta):\n",
    "            other = other.toComplex()\n",
    "        if not isinstance(other, Complex):\n",
    "            return self.real == other and self.imag == 0\n",
    "        return (self.real == other.real) and (self.imag == other.imag)\n",
    "\n",
    "    def __ne__(self, other):\n",
    "        if isinstance(other, Reitheta):\n",
    "            other = other.toComplex()\n",
    "        if not isinstance(other, Complex):\n",
    "            return self.real != other or self.imag != 0\n",
    "        return (self.num != other.num) or (other.den != self.den)\n",
    "    \n",
    "#     def __pow__(self, other):\n",
    "        \n",
    "        \n",
    "#     def log(self):\n",
    "#         magnitude = \n",
    "    "
   ]
  },
  {
   "cell_type": "code",
   "execution_count": 8,
   "metadata": {},
   "outputs": [],
   "source": [
    "import builtins"
   ]
  },
  {
   "cell_type": "code",
   "execution_count": 18,
   "metadata": {},
   "outputs": [
    {
     "data": {
      "text/plain": [
       "1.0+-2.0i"
      ]
     },
     "execution_count": 18,
     "metadata": {},
     "output_type": "execute_result"
    }
   ],
   "source": [
    "x = Complex(0,1)\n",
    "y = Complex(2,1)\n",
    "y /= x\n",
    "y"
   ]
  },
  {
   "cell_type": "code",
   "execution_count": 24,
   "metadata": {},
   "outputs": [],
   "source": [
    "class Reitheta:\n",
    "    def __init__(self, r, theta):\n",
    "        self.r = r\n",
    "        self.theta = theta\n",
    "\n",
    "    def __str__(self):            \n",
    "        return \"{0}*e^{1}i\".format(self.r,self.theta)\n",
    "    \n",
    "    def __repr__(self):            \n",
    "        return \"{0}*e^{1}i\".format(self.r,self.theta)\n",
    "    \n",
    "    def __mul__(self, other):\n",
    "        if not isinstance(other, Reitheta):\n",
    "            return Reitheta(self.r*other, self.theta)\n",
    "        return Reitheta(self.r*other.r, self.theta*other.theta)\n",
    "    \n",
    "    def __imul__(self, other):\n",
    "        if not isinstance(other, Reitheta):\n",
    "            self.r *= other\n",
    "            return self\n",
    "        self.r *= other.r\n",
    "        self.theta += other.theta\n",
    "        return self\n",
    "\n",
    "    def __truediv__(self, other):\n",
    "        if not isinstance(other, Reitheta):\n",
    "            return Reitheta(self.r/other, self.theta)\n",
    "        return Reitheta(self.r/other.r,self.theta-other.theta)\n",
    "    \n",
    "    def __idiv__(self, other):\n",
    "        if not isinstance(other, Reitheta):\n",
    "            self.r /= other\n",
    "            return self\n",
    "        self.r /= other.r\n",
    "        self.theta -= other.theta\n",
    "        return self\n",
    "    \n",
    "    # Complexes not comparable, so just = and !=\n",
    "    def __eq__(self, other):\n",
    "        if not isinstance(other, Reitheta):\n",
    "            return self.toComplex() == other\n",
    "        return self.toComplex() == other.toComplex()\n",
    "\n",
    "    def __ne__(self, other):\n",
    "        if not isinstance(other, Reitheta):\n",
    "            return self.toComplex() != other\n",
    "        return self.toComplex() != other.toComplex()\n",
    "    \n",
    "    def toComplex(self):\n",
    "        convert = Complex(self.r * math.cos(self.theta), self.r * math.sin(self.theta))\n",
    "        if round(convert.real, 12) == 0:\n",
    "            convert.real = 0\n",
    "        if round(convert.imag, 12) == 0:\n",
    "            convert.imag = 0   \n",
    "        return convert\n",
    "        "
   ]
  },
  {
   "cell_type": "code",
   "execution_count": 25,
   "metadata": {},
   "outputs": [],
   "source": [
    "z = Reitheta(1, math.pi)"
   ]
  },
  {
   "cell_type": "code",
   "execution_count": 26,
   "metadata": {},
   "outputs": [
    {
     "data": {
      "text/plain": [
       "1*e^3.141592653589793i"
      ]
     },
     "execution_count": 26,
     "metadata": {},
     "output_type": "execute_result"
    }
   ],
   "source": [
    "z"
   ]
  },
  {
   "cell_type": "code",
   "execution_count": 27,
   "metadata": {},
   "outputs": [
    {
     "data": {
      "text/plain": [
       "-1.0+0i"
      ]
     },
     "execution_count": 27,
     "metadata": {},
     "output_type": "execute_result"
    }
   ],
   "source": [
    "z.toComplex()"
   ]
  },
  {
   "cell_type": "code",
   "execution_count": 29,
   "metadata": {},
   "outputs": [
    {
     "data": {
      "text/plain": [
       "True"
      ]
     },
     "execution_count": 29,
     "metadata": {},
     "output_type": "execute_result"
    }
   ],
   "source": [
    "z == -1"
   ]
  }
 ],
 "metadata": {
  "kernelspec": {
   "display_name": "Python 3 (ipykernel)",
   "language": "python",
   "name": "python3"
  },
  "language_info": {
   "codemirror_mode": {
    "name": "ipython",
    "version": 3
   },
   "file_extension": ".py",
   "mimetype": "text/x-python",
   "name": "python",
   "nbconvert_exporter": "python",
   "pygments_lexer": "ipython3",
   "version": "3.10.4"
  }
 },
 "nbformat": 4,
 "nbformat_minor": 4
}
